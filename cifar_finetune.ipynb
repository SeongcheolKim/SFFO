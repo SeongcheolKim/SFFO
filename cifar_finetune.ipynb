{
  "nbformat": 4,
  "nbformat_minor": 0,
  "metadata": {
    "colab": {
      "provenance": [],
      "gpuType": "T4",
      "authorship_tag": "ABX9TyPWyNDwetifkEHJCAwvROqd",
      "include_colab_link": true
    },
    "kernelspec": {
      "name": "python3",
      "display_name": "Python 3"
    },
    "language_info": {
      "name": "python"
    },
    "accelerator": "GPU"
  },
  "cells": [
    {
      "cell_type": "markdown",
      "metadata": {
        "id": "view-in-github",
        "colab_type": "text"
      },
      "source": [
        "<a href=\"https://colab.research.google.com/github/SeongcheolKim/SFFO/blob/master/cifar_finetune.ipynb\" target=\"_parent\"><img src=\"https://colab.research.google.com/assets/colab-badge.svg\" alt=\"Open In Colab\"/></a>"
      ]
    },
    {
      "cell_type": "code",
      "execution_count": 2,
      "metadata": {
        "id": "YrglC-cUvjzg"
      },
      "outputs": [],
      "source": [
        "import tensorflow as tf\n",
        "from tensorflow import keras\n",
        "from tensorflow.keras import layers, models\n",
        "from tensorflow.keras.applications import ResNet50\n",
        "from tensorflow.keras.datasets import cifar10\n",
        "from tensorflow.keras.utils import to_categorical\n",
        "import matplotlib.pyplot as plt\n",
        "import numpy as np"
      ]
    },
    {
      "cell_type": "code",
      "source": [
        "gpus = tf.config.experimental.list_physical_devices('GPU')\n",
        "if gpus:\n",
        "    for gpu in gpus:\n",
        "        tf.config.experimental.set_memory_growth(gpu, True)"
      ],
      "metadata": {
        "id": "Hf3rrbBsL08W"
      },
      "execution_count": 3,
      "outputs": []
    },
    {
      "cell_type": "code",
      "source": [
        "#데이터 로드\n",
        "(x_train, y_train), (x_test, y_test) = cifar10.load_data()"
      ],
      "metadata": {
        "id": "Jw4fIgT9GYFu",
        "colab": {
          "base_uri": "https://localhost:8080/"
        },
        "outputId": "530554e8-c593-4451-cc87-f92670283010"
      },
      "execution_count": 4,
      "outputs": [
        {
          "output_type": "stream",
          "name": "stdout",
          "text": [
            "Downloading data from https://www.cs.toronto.edu/~kriz/cifar-10-python.tar.gz\n",
            "\u001b[1m170498071/170498071\u001b[0m \u001b[32m━━━━━━━━━━━━━━━━━━━━\u001b[0m\u001b[37m\u001b[0m \u001b[1m4s\u001b[0m 0us/step\n"
          ]
        }
      ]
    },
    {
      "cell_type": "code",
      "source": [
        "#이미지 크기 변경 및 정규화(32, 32)->(224, 224)\n",
        "x_train = x_train.astype(\"float32\") / 255.0\n",
        "x_test = x_test.astype(\"float32\") / 255.0\n",
        "\n",
        "# 레이블 원-핫 인코딩\n",
        "y_train = to_categorical(y_train, 10)\n",
        "y_test = to_categorical(y_test, 10)\n",
        "\n",
        "#Train 데이터에서 20%를 Validation으로 사용\n",
        "validation_split = 0.2\n",
        "num_train_samples = int(len(x_train) * (1 - validation_split))  # 80% Train, 20% Validation\n",
        "\n",
        "# Train / Validation 분할\n",
        "x_train_new, x_val = x_train[:num_train_samples], x_train[num_train_samples:]\n",
        "y_train_new, y_val = y_train[:num_train_samples], y_train[num_train_samples:]\n",
        "\n",
        "#배치 크기 설정\n",
        "batch_size = 32\n",
        "\n",
        "#데이터셋을 만들고 즉시 리사이징하지 않음 (메모리 절약)\n",
        "train_dataset = tf.data.Dataset.from_tensor_slices((x_train, y_train))\n",
        "test_dataset = tf.data.Dataset.from_tensor_slices((x_test, y_test))\n",
        "\n",
        "#배치 단위로 변환 (메모리 사용 최적화)\n",
        "def preprocess(image, label):\n",
        "    image = tf.image.resize(image, (224, 224))  # 실시간 리사이징 (RAM 사용 감소)\n",
        "    return image, label\n",
        "\n",
        "#데이터셋 생성\n",
        "train_dataset = tf.data.Dataset.from_tensor_slices((x_train_new, y_train_new))\n",
        "val_dataset = tf.data.Dataset.from_tensor_slices((x_val, y_val))\n",
        "test_dataset = tf.data.Dataset.from_tensor_slices((x_test, y_test))\n",
        "\n",
        "#데이터셋 최적화 (map, batch, prefetch 사용)\n",
        "train_dataset = (train_dataset\n",
        "                 .shuffle(len(x_train_new))  # 데이터 섞기\n",
        "                 .map(preprocess, num_parallel_calls=tf.data.AUTOTUNE)\n",
        "                 .batch(batch_size)\n",
        "                 .prefetch(tf.data.AUTOTUNE))  # I/O 최적화\n",
        "\n",
        "val_dataset = (val_dataset\n",
        "               .map(preprocess, num_parallel_calls=tf.data.AUTOTUNE)\n",
        "               .batch(batch_size)\n",
        "               .prefetch(tf.data.AUTOTUNE))\n",
        "\n",
        "test_dataset = (test_dataset\n",
        "                .map(preprocess, num_parallel_calls=tf.data.AUTOTUNE)\n",
        "                .batch(batch_size)\n",
        "                .prefetch(tf.data.AUTOTUNE))"
      ],
      "metadata": {
        "id": "egrw5tAEG8bS"
      },
      "execution_count": 5,
      "outputs": []
    },
    {
      "cell_type": "code",
      "source": [
        "base_model = ResNet50(weights='imagenet', include_top=False, input_shape=(224, 224, 3))\n",
        "\n",
        "base_model.trainable = False"
      ],
      "metadata": {
        "id": "KHX_e662xLfS",
        "colab": {
          "base_uri": "https://localhost:8080/"
        },
        "outputId": "c81a21e9-fd19-49ba-c0c7-d6a875901632"
      },
      "execution_count": 6,
      "outputs": [
        {
          "output_type": "stream",
          "name": "stdout",
          "text": [
            "Downloading data from https://storage.googleapis.com/tensorflow/keras-applications/resnet/resnet50_weights_tf_dim_ordering_tf_kernels_notop.h5\n",
            "\u001b[1m94765736/94765736\u001b[0m \u001b[32m━━━━━━━━━━━━━━━━━━━━\u001b[0m\u001b[37m\u001b[0m \u001b[1m0s\u001b[0m 0us/step\n"
          ]
        }
      ]
    },
    {
      "cell_type": "code",
      "source": [
        "#fine-tuning 용 FC 추가\n",
        "data_augmentation = keras.Sequential([\n",
        "    layers.RandomFlip(\"horizontal\"),\n",
        "    layers.RandomRotation(0.1),\n",
        "    layers.RandomZoom(0.2),\n",
        "])\n",
        "model = models.Sequential([\n",
        "    data_augmentation,\n",
        "    base_model,\n",
        "    layers.GlobalAveragePooling2D(),\n",
        "    layers.Dense(256, activation = 'relu'),\n",
        "    layers.Dropout(0.5),\n",
        "    layers.Dense(10, activation = 'softmax')\n",
        "])"
      ],
      "metadata": {
        "id": "tHy0qiQHHZxI"
      },
      "execution_count": 11,
      "outputs": []
    },
    {
      "cell_type": "code",
      "source": [
        "model.compile(\n",
        "    optimizer = keras.optimizers.Adam(learning_rate=1e-04),\n",
        "    loss = \"categorical_crossentropy\",\n",
        "    metrics = [\"accuracy\"]\n",
        ")\n",
        "\n",
        "callbacks = [\n",
        "    keras.callbacks.ModelCheckpoint(\n",
        "        filepath = \"model_feature.keras\",\n",
        "        save_best_only = True,\n",
        "        monitor = \"val_loss\"\n",
        "    )\n",
        "]\n",
        "\n",
        "history = model.fit(\n",
        "    train_dataset,\n",
        "    epochs = 10,\n",
        "    validation_data = val_dataset,\n",
        "    callbacks = callbacks\n",
        ")"
      ],
      "metadata": {
        "colab": {
          "base_uri": "https://localhost:8080/"
        },
        "id": "4sznQXK4Hz9k",
        "outputId": "1faee15e-3666-4eb3-c419-014a99cd3620"
      },
      "execution_count": 12,
      "outputs": [
        {
          "output_type": "stream",
          "name": "stdout",
          "text": [
            "Epoch 1/10\n",
            "\u001b[1m1250/1250\u001b[0m \u001b[32m━━━━━━━━━━━━━━━━━━━━\u001b[0m\u001b[37m\u001b[0m \u001b[1m329s\u001b[0m 245ms/step - accuracy: 0.2936 - loss: 1.9200 - val_accuracy: 0.1013 - val_loss: 15.5023\n",
            "Epoch 2/10\n",
            "\u001b[1m1250/1250\u001b[0m \u001b[32m━━━━━━━━━━━━━━━━━━━━\u001b[0m\u001b[37m\u001b[0m \u001b[1m321s\u001b[0m 247ms/step - accuracy: 0.3874 - loss: 1.6996 - val_accuracy: 0.1355 - val_loss: 10.3912\n",
            "Epoch 3/10\n",
            "\u001b[1m1250/1250\u001b[0m \u001b[32m━━━━━━━━━━━━━━━━━━━━\u001b[0m\u001b[37m\u001b[0m \u001b[1m314s\u001b[0m 251ms/step - accuracy: 0.4104 - loss: 1.6435 - val_accuracy: 0.2041 - val_loss: 7.3744\n",
            "Epoch 4/10\n",
            "\u001b[1m1250/1250\u001b[0m \u001b[32m━━━━━━━━━━━━━━━━━━━━\u001b[0m\u001b[37m\u001b[0m \u001b[1m322s\u001b[0m 251ms/step - accuracy: 0.4278 - loss: 1.6093 - val_accuracy: 0.1607 - val_loss: 4.0214\n",
            "Epoch 5/10\n",
            "\u001b[1m1250/1250\u001b[0m \u001b[32m━━━━━━━━━━━━━━━━━━━━\u001b[0m\u001b[37m\u001b[0m \u001b[1m325s\u001b[0m 254ms/step - accuracy: 0.4340 - loss: 1.5811 - val_accuracy: 0.3041 - val_loss: 2.5456\n",
            "Epoch 6/10\n",
            "\u001b[1m1250/1250\u001b[0m \u001b[32m━━━━━━━━━━━━━━━━━━━━\u001b[0m\u001b[37m\u001b[0m \u001b[1m313s\u001b[0m 246ms/step - accuracy: 0.4431 - loss: 1.5517 - val_accuracy: 0.1530 - val_loss: 3.4745\n",
            "Epoch 7/10\n",
            "\u001b[1m1250/1250\u001b[0m \u001b[32m━━━━━━━━━━━━━━━━━━━━\u001b[0m\u001b[37m\u001b[0m \u001b[1m322s\u001b[0m 247ms/step - accuracy: 0.4513 - loss: 1.5411 - val_accuracy: 0.1575 - val_loss: 4.5944\n",
            "Epoch 8/10\n",
            "\u001b[1m1250/1250\u001b[0m \u001b[32m━━━━━━━━━━━━━━━━━━━━\u001b[0m\u001b[37m\u001b[0m \u001b[1m322s\u001b[0m 247ms/step - accuracy: 0.4626 - loss: 1.5065 - val_accuracy: 0.2030 - val_loss: 3.8486\n",
            "Epoch 9/10\n",
            "\u001b[1m1250/1250\u001b[0m \u001b[32m━━━━━━━━━━━━━━━━━━━━\u001b[0m\u001b[37m\u001b[0m \u001b[1m331s\u001b[0m 254ms/step - accuracy: 0.4704 - loss: 1.4932 - val_accuracy: 0.2948 - val_loss: 2.2490\n",
            "Epoch 10/10\n",
            "\u001b[1m1250/1250\u001b[0m \u001b[32m━━━━━━━━━━━━━━━━━━━━\u001b[0m\u001b[37m\u001b[0m \u001b[1m309s\u001b[0m 247ms/step - accuracy: 0.4763 - loss: 1.4683 - val_accuracy: 0.2285 - val_loss: 5.1914\n"
          ]
        }
      ]
    },
    {
      "cell_type": "code",
      "source": [
        "# ResNet50의 마지막 몇 개의 레이어를 학습 가능하게 변경\n",
        "for layer in base_model.layers[-50:]:\n",
        "    if not isinstance(layer, layers.BatchNormalization):  # BatchNorm Freeze\n",
        "        layer.trainable = True\n",
        "\n",
        "\n",
        "# 모델 재컴파일\n",
        "model.compile(\n",
        "    optimizer=keras.optimizers.Adam(learning_rate=1e-5),\n",
        "    loss=\"categorical_crossentropy\",\n",
        "    metrics=[\"accuracy\"]\n",
        ")\n",
        "\n",
        "#scheduler 추가\n",
        "callbacks = [\n",
        "    keras.callbacks.ModelCheckpoint(\n",
        "        filepath = \"model_feature_finetune.keras\",\n",
        "        save_best_only = True,\n",
        "        monitor = \"val_loss\"\n",
        "    ),\n",
        "    keras.callbacks.ReduceLROnPlateau(  #Validation Loss가 개선되지 않으면 LR 감소\n",
        "        monitor=\"val_loss\",\n",
        "        factor=0.5,  # 학습률 50% 감소\n",
        "        patience=3,  # 3번 연속 개선되지 않으면 감소\n",
        "        min_lr=1e-6  # 최소 학습률 제한\n",
        "    )\n",
        "]\n",
        "\n",
        "# Fine-Tuning 학습\n",
        "history_finetune = model.fit(\n",
        "    train_dataset,\n",
        "    epochs=15,\n",
        "    validation_data=test_dataset,\n",
        "    callbacks=callbacks\n",
        ")"
      ],
      "metadata": {
        "colab": {
          "base_uri": "https://localhost:8080/"
        },
        "id": "oERAkCG6eQrg",
        "outputId": "ed64885d-c3be-47e1-a1ef-8232db6496b1"
      },
      "execution_count": 14,
      "outputs": [
        {
          "output_type": "stream",
          "name": "stdout",
          "text": [
            "Epoch 1/15\n",
            "\u001b[1m1250/1250\u001b[0m \u001b[32m━━━━━━━━━━━━━━━━━━━━\u001b[0m\u001b[37m\u001b[0m \u001b[1m325s\u001b[0m 246ms/step - accuracy: 0.4982 - loss: 1.4150 - val_accuracy: 0.5153 - val_loss: 1.3366 - learning_rate: 1.0000e-05\n",
            "Epoch 2/15\n",
            "\u001b[1m1250/1250\u001b[0m \u001b[32m━━━━━━━━━━━━━━━━━━━━\u001b[0m\u001b[37m\u001b[0m \u001b[1m329s\u001b[0m 252ms/step - accuracy: 0.5188 - loss: 1.3714 - val_accuracy: 0.5313 - val_loss: 1.2932 - learning_rate: 1.0000e-05\n",
            "Epoch 3/15\n",
            "\u001b[1m1250/1250\u001b[0m \u001b[32m━━━━━━━━━━━━━━━━━━━━\u001b[0m\u001b[37m\u001b[0m \u001b[1m322s\u001b[0m 252ms/step - accuracy: 0.5232 - loss: 1.3666 - val_accuracy: 0.5407 - val_loss: 1.2753 - learning_rate: 1.0000e-05\n",
            "Epoch 4/15\n",
            "\u001b[1m1250/1250\u001b[0m \u001b[32m━━━━━━━━━━━━━━━━━━━━\u001b[0m\u001b[37m\u001b[0m \u001b[1m307s\u001b[0m 246ms/step - accuracy: 0.5219 - loss: 1.3485 - val_accuracy: 0.5369 - val_loss: 1.3028 - learning_rate: 1.0000e-05\n",
            "Epoch 5/15\n",
            "\u001b[1m1250/1250\u001b[0m \u001b[32m━━━━━━━━━━━━━━━━━━━━\u001b[0m\u001b[37m\u001b[0m \u001b[1m322s\u001b[0m 245ms/step - accuracy: 0.5239 - loss: 1.3382 - val_accuracy: 0.5136 - val_loss: 1.4344 - learning_rate: 1.0000e-05\n",
            "Epoch 6/15\n",
            "\u001b[1m1250/1250\u001b[0m \u001b[32m━━━━━━━━━━━━━━━━━━━━\u001b[0m\u001b[37m\u001b[0m \u001b[1m323s\u001b[0m 246ms/step - accuracy: 0.5276 - loss: 1.3330 - val_accuracy: 0.5014 - val_loss: 1.3735 - learning_rate: 1.0000e-05\n",
            "Epoch 7/15\n",
            "\u001b[1m1250/1250\u001b[0m \u001b[32m━━━━━━━━━━━━━━━━━━━━\u001b[0m\u001b[37m\u001b[0m \u001b[1m328s\u001b[0m 252ms/step - accuracy: 0.5368 - loss: 1.3229 - val_accuracy: 0.5857 - val_loss: 1.1558 - learning_rate: 5.0000e-06\n",
            "Epoch 8/15\n",
            "\u001b[1m1250/1250\u001b[0m \u001b[32m━━━━━━━━━━━━━━━━━━━━\u001b[0m\u001b[37m\u001b[0m \u001b[1m316s\u001b[0m 246ms/step - accuracy: 0.5354 - loss: 1.3240 - val_accuracy: 0.5674 - val_loss: 1.1940 - learning_rate: 5.0000e-06\n",
            "Epoch 9/15\n",
            "\u001b[1m1250/1250\u001b[0m \u001b[32m━━━━━━━━━━━━━━━━━━━━\u001b[0m\u001b[37m\u001b[0m \u001b[1m319s\u001b[0m 244ms/step - accuracy: 0.5378 - loss: 1.3023 - val_accuracy: 0.5625 - val_loss: 1.2208 - learning_rate: 5.0000e-06\n",
            "Epoch 10/15\n",
            "\u001b[1m1250/1250\u001b[0m \u001b[32m━━━━━━━━━━━━━━━━━━━━\u001b[0m\u001b[37m\u001b[0m \u001b[1m322s\u001b[0m 245ms/step - accuracy: 0.5403 - loss: 1.2989 - val_accuracy: 0.5513 - val_loss: 1.2766 - learning_rate: 5.0000e-06\n",
            "Epoch 11/15\n",
            "\u001b[1m1250/1250\u001b[0m \u001b[32m━━━━━━━━━━━━━━━━━━━━\u001b[0m\u001b[37m\u001b[0m \u001b[1m324s\u001b[0m 246ms/step - accuracy: 0.5438 - loss: 1.2992 - val_accuracy: 0.5844 - val_loss: 1.1575 - learning_rate: 2.5000e-06\n",
            "Epoch 12/15\n",
            "\u001b[1m1250/1250\u001b[0m \u001b[32m━━━━━━━━━━━━━━━━━━━━\u001b[0m\u001b[37m\u001b[0m \u001b[1m319s\u001b[0m 255ms/step - accuracy: 0.5390 - loss: 1.2905 - val_accuracy: 0.5931 - val_loss: 1.1455 - learning_rate: 2.5000e-06\n",
            "Epoch 13/15\n",
            "\u001b[1m1250/1250\u001b[0m \u001b[32m━━━━━━━━━━━━━━━━━━━━\u001b[0m\u001b[37m\u001b[0m \u001b[1m311s\u001b[0m 246ms/step - accuracy: 0.5433 - loss: 1.2929 - val_accuracy: 0.5726 - val_loss: 1.2168 - learning_rate: 2.5000e-06\n",
            "Epoch 14/15\n",
            "\u001b[1m1250/1250\u001b[0m \u001b[32m━━━━━━━━━━━━━━━━━━━━\u001b[0m\u001b[37m\u001b[0m \u001b[1m323s\u001b[0m 247ms/step - accuracy: 0.5457 - loss: 1.2990 - val_accuracy: 0.5880 - val_loss: 1.1516 - learning_rate: 2.5000e-06\n",
            "Epoch 15/15\n",
            "\u001b[1m1250/1250\u001b[0m \u001b[32m━━━━━━━━━━━━━━━━━━━━\u001b[0m\u001b[37m\u001b[0m \u001b[1m321s\u001b[0m 246ms/step - accuracy: 0.5474 - loss: 1.2976 - val_accuracy: 0.5823 - val_loss: 1.1669 - learning_rate: 2.5000e-06\n"
          ]
        }
      ]
    },
    {
      "cell_type": "code",
      "source": [
        "test_loss, test_acc = model.evaluate(test_dataset)\n",
        "print(f\"Test Accuracy: {test_acc:.4f}\")"
      ],
      "metadata": {
        "colab": {
          "base_uri": "https://localhost:8080/"
        },
        "id": "g-TbVS-_2B5r",
        "outputId": "35234425-b065-45b3-e658-3e2685864715"
      },
      "execution_count": 15,
      "outputs": [
        {
          "output_type": "stream",
          "name": "stdout",
          "text": [
            "\u001b[1m313/313\u001b[0m \u001b[32m━━━━━━━━━━━━━━━━━━━━\u001b[0m\u001b[37m\u001b[0m \u001b[1m40s\u001b[0m 128ms/step - accuracy: 0.5889 - loss: 1.1576\n",
            "Test Accuracy: 0.5823\n"
          ]
        }
      ]
    },
    {
      "cell_type": "code",
      "source": [
        "# 학습 및 검증 정확도 그래프\n",
        "plt.plot(history.history[\"accuracy\"], label=\"Pretrained Model Accuracy\")\n",
        "plt.plot(history.history[\"val_accuracy\"], label=\"Pretrained Model Validation Accuracy\")\n",
        "plt.plot(history_finetune.history[\"accuracy\"], label=\"Fine-Tuned Model Accuracy\")\n",
        "plt.plot(history_finetune.history[\"val_accuracy\"], label=\"Fine-Tuned Model Validation Accuracy\")\n",
        "plt.xlabel(\"Epochs\")\n",
        "plt.ylabel(\"Accuracy\")\n",
        "plt.legend()\n",
        "plt.title(\"CIFAR-10 Fine-Tuning with ResNet50\")\n",
        "plt.show()"
      ],
      "metadata": {
        "colab": {
          "base_uri": "https://localhost:8080/",
          "height": 472
        },
        "id": "PYLWXyrtXzof",
        "outputId": "a07240b0-363f-4a3d-9a81-b6eccf4b16d1"
      },
      "execution_count": 16,
      "outputs": [
        {
          "output_type": "display_data",
          "data": {
            "text/plain": [
              "<Figure size 640x480 with 1 Axes>"
            ],
            "image/png": "[encoded data removed]"
          },
          "metadata": {}
        }
      ]
    }
  ]
}